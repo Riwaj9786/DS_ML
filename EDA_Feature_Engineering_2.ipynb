{
 "cells": [
  {
   "cell_type": "markdown",
   "metadata": {},
   "source": [
    "# Exploratory Data Analysis and Feature Engineering"
   ]
  },
  {
   "cell_type": "markdown",
   "metadata": {},
   "source": [
    "## Feature Engineering\n",
    "- The process by which we create new feature or modify the existing features in our dataset so that we improve the performances of our machine learning models.\n",
    "\n",
    "### Importance of Feature Engineering:\n",
    "1. Improve the model performance\n",
    "2. Reducing overfitting\n",
    "3. Enabling simpler models\n",
    "4. Handling the Data Quality Issues\n",
    "\n",
    "### Steps in Feature Engineering\n",
    "1. Understand the data - Distribution, Relationships, Domain specific characteristics of the features of the data.\n",
    "2. Data Cleaning - Handle Missing Values, Handle Outliers, Handle Errors in the data.\n",
    "3. Feature Creation - Generate New Features from the existing data.\n",
    "4. Feature Transformation - Modify the existing features: Normalization, Scaling, Encoding, etc.\n",
    "5. Feature Selection - Select the most relevant features to use in your model: Correlation Analysis, Feature Importance, Dimensionality Reduction\n",
    "6. Interaction Features\n",
    "7. Domain Specific Features"
   ]
  },
  {
   "cell_type": "markdown",
   "metadata": {},
   "source": [
    "## Techniques used in Feature Engineering"
   ]
  },
  {
   "cell_type": "markdown",
   "metadata": {},
   "source": [
    "### A. Normalization and Scaling"
   ]
  },
  {
   "cell_type": "markdown",
   "metadata": {},
   "source": [
    "1. **Scaling**: \n",
    "    - Transforming the data so that it fits within a specific scale; like 0-100 or 0-1.\n",
    "    - One US Dollar is worth about 100 Yen, but if we don't scale our prices, methods like SVM or KNN will consider a difference in price of 1 Yen as important as a difference of 1 US dollar.\n",
    "2. **Normalization**:\n",
    "    - To change our observations so that they can be described as normal distribution.\n",
    "    - Change the shape of distribution of the data."
   ]
  },
  {
   "cell_type": "code",
   "execution_count": 1,
   "metadata": {},
   "outputs": [],
   "source": [
    "import pandas as pd\n",
    "import numpy as np"
   ]
  },
  {
   "cell_type": "code",
   "execution_count": 2,
   "metadata": {},
   "outputs": [
    {
     "data": {
      "text/html": [
       "<div>\n",
       "<style scoped>\n",
       "    .dataframe tbody tr th:only-of-type {\n",
       "        vertical-align: middle;\n",
       "    }\n",
       "\n",
       "    .dataframe tbody tr th {\n",
       "        vertical-align: top;\n",
       "    }\n",
       "\n",
       "    .dataframe thead th {\n",
       "        text-align: right;\n",
       "    }\n",
       "</style>\n",
       "<table border=\"1\" class=\"dataframe\">\n",
       "  <thead>\n",
       "    <tr style=\"text-align: right;\">\n",
       "      <th></th>\n",
       "      <th>id</th>\n",
       "      <th>name</th>\n",
       "      <th>age</th>\n",
       "      <th>income</th>\n",
       "      <th>purchase_date</th>\n",
       "      <th>product_category</th>\n",
       "      <th>purchase_amount</th>\n",
       "      <th>is_returned</th>\n",
       "    </tr>\n",
       "  </thead>\n",
       "  <tbody>\n",
       "    <tr>\n",
       "      <th>0</th>\n",
       "      <td>e3e70682-c209-4cac-a29f-6fbed82c07cd</td>\n",
       "      <td>Thomas Gonzalez</td>\n",
       "      <td>42.0</td>\n",
       "      <td>92701.95</td>\n",
       "      <td>2021-04-14</td>\n",
       "      <td>Clothing</td>\n",
       "      <td>261.01</td>\n",
       "      <td>1</td>\n",
       "    </tr>\n",
       "    <tr>\n",
       "      <th>1</th>\n",
       "      <td>f728b4fa-4248-4e3a-8a5d-2f346baa9455</td>\n",
       "      <td>Christopher Barrett</td>\n",
       "      <td>66.0</td>\n",
       "      <td>67632.79</td>\n",
       "      <td>2021-06-14</td>\n",
       "      <td>Sports</td>\n",
       "      <td>318.51</td>\n",
       "      <td>1</td>\n",
       "    </tr>\n",
       "    <tr>\n",
       "      <th>2</th>\n",
       "      <td>eb1167b3-67a9-4378-bc65-c1e582e2e662</td>\n",
       "      <td>Kathy Willis</td>\n",
       "      <td>44.0</td>\n",
       "      <td>22836.08</td>\n",
       "      <td>2021-03-31</td>\n",
       "      <td>Electronics</td>\n",
       "      <td>370.91</td>\n",
       "      <td>0</td>\n",
       "    </tr>\n",
       "    <tr>\n",
       "      <th>3</th>\n",
       "      <td>f7c1bd87-4da5-4709-9471-3d60c8a70639</td>\n",
       "      <td>Shannon Bullock</td>\n",
       "      <td>20.0</td>\n",
       "      <td>83378.92</td>\n",
       "      <td>2023-11-04</td>\n",
       "      <td>Clothing</td>\n",
       "      <td>77.07</td>\n",
       "      <td>1</td>\n",
       "    </tr>\n",
       "    <tr>\n",
       "      <th>4</th>\n",
       "      <td>e443df78-9558-467f-9ba9-1faf7a024204</td>\n",
       "      <td>Steven Johnson</td>\n",
       "      <td>34.0</td>\n",
       "      <td>44448.31</td>\n",
       "      <td>2020-01-12</td>\n",
       "      <td>Home &amp; Kitchen</td>\n",
       "      <td>256.40</td>\n",
       "      <td>0</td>\n",
       "    </tr>\n",
       "  </tbody>\n",
       "</table>\n",
       "</div>"
      ],
      "text/plain": [
       "                                     id                 name   age    income  \\\n",
       "0  e3e70682-c209-4cac-a29f-6fbed82c07cd      Thomas Gonzalez  42.0  92701.95   \n",
       "1  f728b4fa-4248-4e3a-8a5d-2f346baa9455  Christopher Barrett  66.0  67632.79   \n",
       "2  eb1167b3-67a9-4378-bc65-c1e582e2e662         Kathy Willis  44.0  22836.08   \n",
       "3  f7c1bd87-4da5-4709-9471-3d60c8a70639      Shannon Bullock  20.0  83378.92   \n",
       "4  e443df78-9558-467f-9ba9-1faf7a024204       Steven Johnson  34.0  44448.31   \n",
       "\n",
       "  purchase_date product_category  purchase_amount  is_returned  \n",
       "0    2021-04-14         Clothing           261.01            1  \n",
       "1    2021-06-14           Sports           318.51            1  \n",
       "2    2021-03-31      Electronics           370.91            0  \n",
       "3    2023-11-04         Clothing            77.07            1  \n",
       "4    2020-01-12   Home & Kitchen           256.40            0  "
      ]
     },
     "execution_count": 2,
     "metadata": {},
     "output_type": "execute_result"
    }
   ],
   "source": [
    "data = pd.read_csv('sample_dataset.csv')\n",
    "data.head()"
   ]
  },
  {
   "cell_type": "code",
   "execution_count": 3,
   "metadata": {},
   "outputs": [
    {
     "data": {
      "text/html": [
       "<div>\n",
       "<style scoped>\n",
       "    .dataframe tbody tr th:only-of-type {\n",
       "        vertical-align: middle;\n",
       "    }\n",
       "\n",
       "    .dataframe tbody tr th {\n",
       "        vertical-align: top;\n",
       "    }\n",
       "\n",
       "    .dataframe thead th {\n",
       "        text-align: right;\n",
       "    }\n",
       "</style>\n",
       "<table border=\"1\" class=\"dataframe\">\n",
       "  <thead>\n",
       "    <tr style=\"text-align: right;\">\n",
       "      <th></th>\n",
       "      <th>age</th>\n",
       "      <th>income</th>\n",
       "      <th>purchase_amount</th>\n",
       "      <th>is_returned</th>\n",
       "    </tr>\n",
       "  </thead>\n",
       "  <tbody>\n",
       "    <tr>\n",
       "      <th>0</th>\n",
       "      <td>42.0</td>\n",
       "      <td>92701.95</td>\n",
       "      <td>261.01</td>\n",
       "      <td>1</td>\n",
       "    </tr>\n",
       "    <tr>\n",
       "      <th>1</th>\n",
       "      <td>66.0</td>\n",
       "      <td>67632.79</td>\n",
       "      <td>318.51</td>\n",
       "      <td>1</td>\n",
       "    </tr>\n",
       "    <tr>\n",
       "      <th>2</th>\n",
       "      <td>44.0</td>\n",
       "      <td>22836.08</td>\n",
       "      <td>370.91</td>\n",
       "      <td>0</td>\n",
       "    </tr>\n",
       "    <tr>\n",
       "      <th>3</th>\n",
       "      <td>20.0</td>\n",
       "      <td>83378.92</td>\n",
       "      <td>77.07</td>\n",
       "      <td>1</td>\n",
       "    </tr>\n",
       "    <tr>\n",
       "      <th>4</th>\n",
       "      <td>34.0</td>\n",
       "      <td>44448.31</td>\n",
       "      <td>256.40</td>\n",
       "      <td>0</td>\n",
       "    </tr>\n",
       "  </tbody>\n",
       "</table>\n",
       "</div>"
      ],
      "text/plain": [
       "    age    income  purchase_amount  is_returned\n",
       "0  42.0  92701.95           261.01            1\n",
       "1  66.0  67632.79           318.51            1\n",
       "2  44.0  22836.08           370.91            0\n",
       "3  20.0  83378.92            77.07            1\n",
       "4  34.0  44448.31           256.40            0"
      ]
     },
     "execution_count": 3,
     "metadata": {},
     "output_type": "execute_result"
    }
   ],
   "source": [
    "data = data.drop(columns=['id', 'product_category', 'name', 'purchase_date'])\n",
    "data.head()"
   ]
  },
  {
   "cell_type": "code",
   "execution_count": 4,
   "metadata": {},
   "outputs": [
    {
     "name": "stdout",
     "output_type": "stream",
     "text": [
      "Defaulting to user installation because normal site-packages is not writeable\n",
      "Requirement already satisfied: scikit-learn in c:\\users\\msi\\appdata\\local\\packages\\pythonsoftwarefoundation.python.3.12_qbz5n2kfra8p0\\localcache\\local-packages\\python312\\site-packages (1.5.1)\n",
      "Requirement already satisfied: numpy>=1.19.5 in c:\\users\\msi\\appdata\\local\\packages\\pythonsoftwarefoundation.python.3.12_qbz5n2kfra8p0\\localcache\\local-packages\\python312\\site-packages (from scikit-learn) (2.1.0)\n",
      "Requirement already satisfied: scipy>=1.6.0 in c:\\users\\msi\\appdata\\local\\packages\\pythonsoftwarefoundation.python.3.12_qbz5n2kfra8p0\\localcache\\local-packages\\python312\\site-packages (from scikit-learn) (1.14.1)\n",
      "Requirement already satisfied: joblib>=1.2.0 in c:\\users\\msi\\appdata\\local\\packages\\pythonsoftwarefoundation.python.3.12_qbz5n2kfra8p0\\localcache\\local-packages\\python312\\site-packages (from scikit-learn) (1.4.2)\n",
      "Requirement already satisfied: threadpoolctl>=3.1.0 in c:\\users\\msi\\appdata\\local\\packages\\pythonsoftwarefoundation.python.3.12_qbz5n2kfra8p0\\localcache\\local-packages\\python312\\site-packages (from scikit-learn) (3.5.0)\n"
     ]
    }
   ],
   "source": [
    "! pip install scikit-learn"
   ]
  },
  {
   "cell_type": "code",
   "execution_count": 5,
   "metadata": {},
   "outputs": [
    {
     "data": {
      "text/plain": [
       "array([[-0.11497117,  0.22079014, -0.09879538,  0.99203175],\n",
       "       [ 1.42082185, -0.02730732,  0.01253117,  0.99203175],\n",
       "       [ 0.01301158, -0.47063888,  0.11398355, -1.00803226],\n",
       "       ...,\n",
       "       [-0.49891943, -0.27423629, -0.23726625,  0.99203175],\n",
       "       [ 1.42082185,  0.0185204 , -0.07178659, -1.00803226],\n",
       "       [        nan, -0.02411104,         nan, -1.00803226]])"
      ]
     },
     "execution_count": 5,
     "metadata": {},
     "output_type": "execute_result"
    }
   ],
   "source": [
    "#Normalization and Scaling\n",
    "from sklearn.preprocessing import StandardScaler, MinMaxScaler\n",
    "\n",
    "scaler = StandardScaler()\n",
    "data_scaled = scaler.fit_transform(data)\n",
    "data_scaled"
   ]
  },
  {
   "cell_type": "code",
   "execution_count": 6,
   "metadata": {},
   "outputs": [
    {
     "data": {
      "text/plain": [
       "array([[0.46153846, 0.07407981, 0.05124714, 1.        ],\n",
       "       [0.92307692, 0.04849344, 0.06276043, 1.        ],\n",
       "       [0.5       , 0.0027725 , 0.07325253, 0.        ],\n",
       "       ...,\n",
       "       [0.34615385, 0.02302757, 0.03692661, 1.        ],\n",
       "       [0.92307692, 0.05321966, 0.05404036, 0.        ],\n",
       "       [       nan, 0.04882307,        nan, 0.        ]])"
      ]
     },
     "execution_count": 6,
     "metadata": {},
     "output_type": "execute_result"
    }
   ],
   "source": [
    "# Using the MinMax Scaler\n",
    "minmax_scaler = MinMaxScaler()\n",
    "data_normalized = minmax_scaler.fit_transform(data)\n",
    "data_normalized"
   ]
  },
  {
   "cell_type": "markdown",
   "metadata": {},
   "source": [
    "1. **StandardScaler**: follows Standard Normal Distribution(SND). Therefore, it makes mean = 0 and standard deviation = 1, and scales the data to unit variance.\n",
    "2. **MinMaxScaler**: scales all the data features in the range [0,1] or else in the range [-1,1] if there are negative values in the dataser."
   ]
  },
  {
   "cell_type": "markdown",
   "metadata": {},
   "source": [
    "## B. Data Encoding\n",
    "- Converting the Categorical variables into numerical data."
   ]
  },
  {
   "cell_type": "code",
   "execution_count": 7,
   "metadata": {},
   "outputs": [
    {
     "data": {
      "text/html": [
       "<div>\n",
       "<style scoped>\n",
       "    .dataframe tbody tr th:only-of-type {\n",
       "        vertical-align: middle;\n",
       "    }\n",
       "\n",
       "    .dataframe tbody tr th {\n",
       "        vertical-align: top;\n",
       "    }\n",
       "\n",
       "    .dataframe thead th {\n",
       "        text-align: right;\n",
       "    }\n",
       "</style>\n",
       "<table border=\"1\" class=\"dataframe\">\n",
       "  <thead>\n",
       "    <tr style=\"text-align: right;\">\n",
       "      <th></th>\n",
       "      <th>id</th>\n",
       "      <th>name</th>\n",
       "      <th>age</th>\n",
       "      <th>income</th>\n",
       "      <th>purchase_date</th>\n",
       "      <th>product_category</th>\n",
       "      <th>purchase_amount</th>\n",
       "      <th>is_returned</th>\n",
       "    </tr>\n",
       "  </thead>\n",
       "  <tbody>\n",
       "    <tr>\n",
       "      <th>0</th>\n",
       "      <td>e3e70682-c209-4cac-a29f-6fbed82c07cd</td>\n",
       "      <td>Thomas Gonzalez</td>\n",
       "      <td>42.0</td>\n",
       "      <td>92701.95</td>\n",
       "      <td>2021-04-14</td>\n",
       "      <td>Clothing</td>\n",
       "      <td>261.01</td>\n",
       "      <td>1</td>\n",
       "    </tr>\n",
       "    <tr>\n",
       "      <th>1</th>\n",
       "      <td>f728b4fa-4248-4e3a-8a5d-2f346baa9455</td>\n",
       "      <td>Christopher Barrett</td>\n",
       "      <td>66.0</td>\n",
       "      <td>67632.79</td>\n",
       "      <td>2021-06-14</td>\n",
       "      <td>Sports</td>\n",
       "      <td>318.51</td>\n",
       "      <td>1</td>\n",
       "    </tr>\n",
       "    <tr>\n",
       "      <th>2</th>\n",
       "      <td>eb1167b3-67a9-4378-bc65-c1e582e2e662</td>\n",
       "      <td>Kathy Willis</td>\n",
       "      <td>44.0</td>\n",
       "      <td>22836.08</td>\n",
       "      <td>2021-03-31</td>\n",
       "      <td>Electronics</td>\n",
       "      <td>370.91</td>\n",
       "      <td>0</td>\n",
       "    </tr>\n",
       "    <tr>\n",
       "      <th>3</th>\n",
       "      <td>f7c1bd87-4da5-4709-9471-3d60c8a70639</td>\n",
       "      <td>Shannon Bullock</td>\n",
       "      <td>20.0</td>\n",
       "      <td>83378.92</td>\n",
       "      <td>2023-11-04</td>\n",
       "      <td>Clothing</td>\n",
       "      <td>77.07</td>\n",
       "      <td>1</td>\n",
       "    </tr>\n",
       "    <tr>\n",
       "      <th>4</th>\n",
       "      <td>e443df78-9558-467f-9ba9-1faf7a024204</td>\n",
       "      <td>Steven Johnson</td>\n",
       "      <td>34.0</td>\n",
       "      <td>44448.31</td>\n",
       "      <td>2020-01-12</td>\n",
       "      <td>Home &amp; Kitchen</td>\n",
       "      <td>256.40</td>\n",
       "      <td>0</td>\n",
       "    </tr>\n",
       "  </tbody>\n",
       "</table>\n",
       "</div>"
      ],
      "text/plain": [
       "                                     id                 name   age    income  \\\n",
       "0  e3e70682-c209-4cac-a29f-6fbed82c07cd      Thomas Gonzalez  42.0  92701.95   \n",
       "1  f728b4fa-4248-4e3a-8a5d-2f346baa9455  Christopher Barrett  66.0  67632.79   \n",
       "2  eb1167b3-67a9-4378-bc65-c1e582e2e662         Kathy Willis  44.0  22836.08   \n",
       "3  f7c1bd87-4da5-4709-9471-3d60c8a70639      Shannon Bullock  20.0  83378.92   \n",
       "4  e443df78-9558-467f-9ba9-1faf7a024204       Steven Johnson  34.0  44448.31   \n",
       "\n",
       "  purchase_date product_category  purchase_amount  is_returned  \n",
       "0    2021-04-14         Clothing           261.01            1  \n",
       "1    2021-06-14           Sports           318.51            1  \n",
       "2    2021-03-31      Electronics           370.91            0  \n",
       "3    2023-11-04         Clothing            77.07            1  \n",
       "4    2020-01-12   Home & Kitchen           256.40            0  "
      ]
     },
     "execution_count": 7,
     "metadata": {},
     "output_type": "execute_result"
    }
   ],
   "source": [
    "df = pd.read_csv('sample_dataset.csv')\n",
    "df.head()"
   ]
  },
  {
   "cell_type": "code",
   "execution_count": 8,
   "metadata": {},
   "outputs": [],
   "source": [
    "# For Encoding Categorical Data\n",
    "from sklearn.preprocessing import OneHotEncoder, LabelEncoder"
   ]
  },
  {
   "cell_type": "code",
   "execution_count": 9,
   "metadata": {},
   "outputs": [
    {
     "data": {
      "text/html": [
       "<div>\n",
       "<style scoped>\n",
       "    .dataframe tbody tr th:only-of-type {\n",
       "        vertical-align: middle;\n",
       "    }\n",
       "\n",
       "    .dataframe tbody tr th {\n",
       "        vertical-align: top;\n",
       "    }\n",
       "\n",
       "    .dataframe thead th {\n",
       "        text-align: right;\n",
       "    }\n",
       "</style>\n",
       "<table border=\"1\" class=\"dataframe\">\n",
       "  <thead>\n",
       "    <tr style=\"text-align: right;\">\n",
       "      <th></th>\n",
       "      <th>age</th>\n",
       "      <th>income</th>\n",
       "      <th>purchase_date</th>\n",
       "      <th>product_category</th>\n",
       "      <th>purchase_amount</th>\n",
       "      <th>is_returned</th>\n",
       "    </tr>\n",
       "  </thead>\n",
       "  <tbody>\n",
       "    <tr>\n",
       "      <th>0</th>\n",
       "      <td>42.0</td>\n",
       "      <td>92701.95</td>\n",
       "      <td>2021-04-14</td>\n",
       "      <td>Clothing</td>\n",
       "      <td>261.01</td>\n",
       "      <td>1</td>\n",
       "    </tr>\n",
       "    <tr>\n",
       "      <th>1</th>\n",
       "      <td>66.0</td>\n",
       "      <td>67632.79</td>\n",
       "      <td>2021-06-14</td>\n",
       "      <td>Sports</td>\n",
       "      <td>318.51</td>\n",
       "      <td>1</td>\n",
       "    </tr>\n",
       "    <tr>\n",
       "      <th>2</th>\n",
       "      <td>44.0</td>\n",
       "      <td>22836.08</td>\n",
       "      <td>2021-03-31</td>\n",
       "      <td>Electronics</td>\n",
       "      <td>370.91</td>\n",
       "      <td>0</td>\n",
       "    </tr>\n",
       "    <tr>\n",
       "      <th>3</th>\n",
       "      <td>20.0</td>\n",
       "      <td>83378.92</td>\n",
       "      <td>2023-11-04</td>\n",
       "      <td>Clothing</td>\n",
       "      <td>77.07</td>\n",
       "      <td>1</td>\n",
       "    </tr>\n",
       "    <tr>\n",
       "      <th>4</th>\n",
       "      <td>34.0</td>\n",
       "      <td>44448.31</td>\n",
       "      <td>2020-01-12</td>\n",
       "      <td>Home &amp; Kitchen</td>\n",
       "      <td>256.40</td>\n",
       "      <td>0</td>\n",
       "    </tr>\n",
       "  </tbody>\n",
       "</table>\n",
       "</div>"
      ],
      "text/plain": [
       "    age    income purchase_date product_category  purchase_amount  is_returned\n",
       "0  42.0  92701.95    2021-04-14         Clothing           261.01            1\n",
       "1  66.0  67632.79    2021-06-14           Sports           318.51            1\n",
       "2  44.0  22836.08    2021-03-31      Electronics           370.91            0\n",
       "3  20.0  83378.92    2023-11-04         Clothing            77.07            1\n",
       "4  34.0  44448.31    2020-01-12   Home & Kitchen           256.40            0"
      ]
     },
     "execution_count": 9,
     "metadata": {},
     "output_type": "execute_result"
    }
   ],
   "source": [
    "df = df.drop(columns=['id', 'name'])\n",
    "df.head()"
   ]
  },
  {
   "cell_type": "code",
   "execution_count": 10,
   "metadata": {},
   "outputs": [
    {
     "data": {
      "text/plain": [
       "<Compressed Sparse Row sparse matrix of dtype 'float64'\n",
       "\twith 6000 stored elements and shape (1000, 2603)>"
      ]
     },
     "execution_count": 10,
     "metadata": {},
     "output_type": "execute_result"
    }
   ],
   "source": [
    "encoder = OneHotEncoder()\n",
    "categorical_data_encoded = encoder.fit_transform(df)\n",
    "categorical_data_encoded"
   ]
  },
  {
   "cell_type": "code",
   "execution_count": 11,
   "metadata": {},
   "outputs": [
    {
     "data": {
      "text/html": [
       "<div>\n",
       "<style scoped>\n",
       "    .dataframe tbody tr th:only-of-type {\n",
       "        vertical-align: middle;\n",
       "    }\n",
       "\n",
       "    .dataframe tbody tr th {\n",
       "        vertical-align: top;\n",
       "    }\n",
       "\n",
       "    .dataframe thead th {\n",
       "        text-align: right;\n",
       "    }\n",
       "</style>\n",
       "<table border=\"1\" class=\"dataframe\">\n",
       "  <thead>\n",
       "    <tr style=\"text-align: right;\">\n",
       "      <th></th>\n",
       "      <th>0</th>\n",
       "    </tr>\n",
       "  </thead>\n",
       "  <tbody>\n",
       "    <tr>\n",
       "      <th>0</th>\n",
       "      <td>&lt;Compressed Sparse Row sparse matrix of dtype ...</td>\n",
       "    </tr>\n",
       "    <tr>\n",
       "      <th>1</th>\n",
       "      <td>&lt;Compressed Sparse Row sparse matrix of dtype ...</td>\n",
       "    </tr>\n",
       "    <tr>\n",
       "      <th>2</th>\n",
       "      <td>&lt;Compressed Sparse Row sparse matrix of dtype ...</td>\n",
       "    </tr>\n",
       "    <tr>\n",
       "      <th>3</th>\n",
       "      <td>&lt;Compressed Sparse Row sparse matrix of dtype ...</td>\n",
       "    </tr>\n",
       "    <tr>\n",
       "      <th>4</th>\n",
       "      <td>&lt;Compressed Sparse Row sparse matrix of dtype ...</td>\n",
       "    </tr>\n",
       "  </tbody>\n",
       "</table>\n",
       "</div>"
      ],
      "text/plain": [
       "                                                   0\n",
       "0  <Compressed Sparse Row sparse matrix of dtype ...\n",
       "1  <Compressed Sparse Row sparse matrix of dtype ...\n",
       "2  <Compressed Sparse Row sparse matrix of dtype ...\n",
       "3  <Compressed Sparse Row sparse matrix of dtype ...\n",
       "4  <Compressed Sparse Row sparse matrix of dtype ..."
      ]
     },
     "execution_count": 11,
     "metadata": {},
     "output_type": "execute_result"
    }
   ],
   "source": [
    "encoded_data = pd.DataFrame(categorical_data_encoded)\n",
    "encoded_data.head()"
   ]
  },
  {
   "cell_type": "markdown",
   "metadata": {},
   "source": [
    "## Date Time Features"
   ]
  },
  {
   "cell_type": "code",
   "execution_count": 12,
   "metadata": {},
   "outputs": [
    {
     "data": {
      "text/html": [
       "<div>\n",
       "<style scoped>\n",
       "    .dataframe tbody tr th:only-of-type {\n",
       "        vertical-align: middle;\n",
       "    }\n",
       "\n",
       "    .dataframe tbody tr th {\n",
       "        vertical-align: top;\n",
       "    }\n",
       "\n",
       "    .dataframe thead th {\n",
       "        text-align: right;\n",
       "    }\n",
       "</style>\n",
       "<table border=\"1\" class=\"dataframe\">\n",
       "  <thead>\n",
       "    <tr style=\"text-align: right;\">\n",
       "      <th></th>\n",
       "      <th>age</th>\n",
       "      <th>income</th>\n",
       "      <th>purchase_date</th>\n",
       "      <th>product_category</th>\n",
       "      <th>purchase_amount</th>\n",
       "      <th>is_returned</th>\n",
       "    </tr>\n",
       "  </thead>\n",
       "  <tbody>\n",
       "    <tr>\n",
       "      <th>0</th>\n",
       "      <td>42.0</td>\n",
       "      <td>92701.95</td>\n",
       "      <td>2021-04-14</td>\n",
       "      <td>Clothing</td>\n",
       "      <td>261.01</td>\n",
       "      <td>1</td>\n",
       "    </tr>\n",
       "    <tr>\n",
       "      <th>1</th>\n",
       "      <td>66.0</td>\n",
       "      <td>67632.79</td>\n",
       "      <td>2021-06-14</td>\n",
       "      <td>Sports</td>\n",
       "      <td>318.51</td>\n",
       "      <td>1</td>\n",
       "    </tr>\n",
       "    <tr>\n",
       "      <th>2</th>\n",
       "      <td>44.0</td>\n",
       "      <td>22836.08</td>\n",
       "      <td>2021-03-31</td>\n",
       "      <td>Electronics</td>\n",
       "      <td>370.91</td>\n",
       "      <td>0</td>\n",
       "    </tr>\n",
       "    <tr>\n",
       "      <th>3</th>\n",
       "      <td>20.0</td>\n",
       "      <td>83378.92</td>\n",
       "      <td>2023-11-04</td>\n",
       "      <td>Clothing</td>\n",
       "      <td>77.07</td>\n",
       "      <td>1</td>\n",
       "    </tr>\n",
       "    <tr>\n",
       "      <th>4</th>\n",
       "      <td>34.0</td>\n",
       "      <td>44448.31</td>\n",
       "      <td>2020-01-12</td>\n",
       "      <td>Home &amp; Kitchen</td>\n",
       "      <td>256.40</td>\n",
       "      <td>0</td>\n",
       "    </tr>\n",
       "  </tbody>\n",
       "</table>\n",
       "</div>"
      ],
      "text/plain": [
       "    age    income purchase_date product_category  purchase_amount  is_returned\n",
       "0  42.0  92701.95    2021-04-14         Clothing           261.01            1\n",
       "1  66.0  67632.79    2021-06-14           Sports           318.51            1\n",
       "2  44.0  22836.08    2021-03-31      Electronics           370.91            0\n",
       "3  20.0  83378.92    2023-11-04         Clothing            77.07            1\n",
       "4  34.0  44448.31    2020-01-12   Home & Kitchen           256.40            0"
      ]
     },
     "execution_count": 12,
     "metadata": {},
     "output_type": "execute_result"
    }
   ],
   "source": [
    "df.head()"
   ]
  },
  {
   "cell_type": "code",
   "execution_count": 13,
   "metadata": {},
   "outputs": [],
   "source": [
    "df['purchase_date'] = pd.to_datetime(df['purchase_date'])"
   ]
  },
  {
   "cell_type": "code",
   "execution_count": 14,
   "metadata": {},
   "outputs": [
    {
     "data": {
      "text/html": [
       "<div>\n",
       "<style scoped>\n",
       "    .dataframe tbody tr th:only-of-type {\n",
       "        vertical-align: middle;\n",
       "    }\n",
       "\n",
       "    .dataframe tbody tr th {\n",
       "        vertical-align: top;\n",
       "    }\n",
       "\n",
       "    .dataframe thead th {\n",
       "        text-align: right;\n",
       "    }\n",
       "</style>\n",
       "<table border=\"1\" class=\"dataframe\">\n",
       "  <thead>\n",
       "    <tr style=\"text-align: right;\">\n",
       "      <th></th>\n",
       "      <th>age</th>\n",
       "      <th>income</th>\n",
       "      <th>purchase_date</th>\n",
       "      <th>product_category</th>\n",
       "      <th>purchase_amount</th>\n",
       "      <th>is_returned</th>\n",
       "      <th>Year</th>\n",
       "      <th>Month</th>\n",
       "      <th>Day</th>\n",
       "    </tr>\n",
       "  </thead>\n",
       "  <tbody>\n",
       "    <tr>\n",
       "      <th>0</th>\n",
       "      <td>42.0</td>\n",
       "      <td>92701.95</td>\n",
       "      <td>2021-04-14</td>\n",
       "      <td>Clothing</td>\n",
       "      <td>261.01</td>\n",
       "      <td>1</td>\n",
       "      <td>2021</td>\n",
       "      <td>4</td>\n",
       "      <td>14</td>\n",
       "    </tr>\n",
       "    <tr>\n",
       "      <th>1</th>\n",
       "      <td>66.0</td>\n",
       "      <td>67632.79</td>\n",
       "      <td>2021-06-14</td>\n",
       "      <td>Sports</td>\n",
       "      <td>318.51</td>\n",
       "      <td>1</td>\n",
       "      <td>2021</td>\n",
       "      <td>6</td>\n",
       "      <td>14</td>\n",
       "    </tr>\n",
       "    <tr>\n",
       "      <th>2</th>\n",
       "      <td>44.0</td>\n",
       "      <td>22836.08</td>\n",
       "      <td>2021-03-31</td>\n",
       "      <td>Electronics</td>\n",
       "      <td>370.91</td>\n",
       "      <td>0</td>\n",
       "      <td>2021</td>\n",
       "      <td>3</td>\n",
       "      <td>31</td>\n",
       "    </tr>\n",
       "    <tr>\n",
       "      <th>3</th>\n",
       "      <td>20.0</td>\n",
       "      <td>83378.92</td>\n",
       "      <td>2023-11-04</td>\n",
       "      <td>Clothing</td>\n",
       "      <td>77.07</td>\n",
       "      <td>1</td>\n",
       "      <td>2023</td>\n",
       "      <td>11</td>\n",
       "      <td>4</td>\n",
       "    </tr>\n",
       "    <tr>\n",
       "      <th>4</th>\n",
       "      <td>34.0</td>\n",
       "      <td>44448.31</td>\n",
       "      <td>2020-01-12</td>\n",
       "      <td>Home &amp; Kitchen</td>\n",
       "      <td>256.40</td>\n",
       "      <td>0</td>\n",
       "      <td>2020</td>\n",
       "      <td>1</td>\n",
       "      <td>12</td>\n",
       "    </tr>\n",
       "  </tbody>\n",
       "</table>\n",
       "</div>"
      ],
      "text/plain": [
       "    age    income purchase_date product_category  purchase_amount  \\\n",
       "0  42.0  92701.95    2021-04-14         Clothing           261.01   \n",
       "1  66.0  67632.79    2021-06-14           Sports           318.51   \n",
       "2  44.0  22836.08    2021-03-31      Electronics           370.91   \n",
       "3  20.0  83378.92    2023-11-04         Clothing            77.07   \n",
       "4  34.0  44448.31    2020-01-12   Home & Kitchen           256.40   \n",
       "\n",
       "   is_returned  Year  Month  Day  \n",
       "0            1  2021      4   14  \n",
       "1            1  2021      6   14  \n",
       "2            0  2021      3   31  \n",
       "3            1  2023     11    4  \n",
       "4            0  2020      1   12  "
      ]
     },
     "execution_count": 14,
     "metadata": {},
     "output_type": "execute_result"
    }
   ],
   "source": [
    "df['Year'] = df['purchase_date'].dt.year\n",
    "df['Month'] = df['purchase_date'].dt.month\n",
    "df['Day'] = df['purchase_date'].dt.day\n",
    "df.head()"
   ]
  },
  {
   "cell_type": "code",
   "execution_count": null,
   "metadata": {},
   "outputs": [],
   "source": []
  }
 ],
 "metadata": {
  "kernelspec": {
   "display_name": "Python 3",
   "language": "python",
   "name": "python3"
  },
  "language_info": {
   "codemirror_mode": {
    "name": "ipython",
    "version": 3
   },
   "file_extension": ".py",
   "mimetype": "text/x-python",
   "name": "python",
   "nbconvert_exporter": "python",
   "pygments_lexer": "ipython3",
   "version": "3.12.5"
  }
 },
 "nbformat": 4,
 "nbformat_minor": 2
}
